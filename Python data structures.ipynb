{
 "cells": [
  {
   "cell_type": "code",
   "execution_count": 63,
   "id": "3545f230",
   "metadata": {},
   "outputs": [
    {
     "name": "stdout",
     "output_type": "stream",
     "text": [
      "36\n"
     ]
    }
   ],
   "source": [
    "#Question 1\n",
    "def produit(list):\n",
    "    result=1\n",
    "    for i in list:\n",
    "        result=result*i\n",
    "    return result\n",
    "list =  [2, 3, 6]\n",
    "print(produit(list))"
   ]
  },
  {
   "cell_type": "code",
   "execution_count": 59,
   "id": "124c0ed5",
   "metadata": {},
   "outputs": [
    {
     "name": "stdout",
     "output_type": "stream",
     "text": [
      "[(2, 1), (1, 2), (2, 3), (4, 4), (2, 5)]\n"
     ]
    }
   ],
   "source": [
    "#Question 2\n",
    "s = [(2, 5), (1, 2), (4, 4), (2, 3), (2, 1)]\n",
    "s.sort(key=lambda x : x[1])\n",
    "print(s)  "
   ]
  },
  {
   "cell_type": "code",
   "execution_count": 60,
   "id": "709d18a3",
   "metadata": {},
   "outputs": [
    {
     "name": "stdout",
     "output_type": "stream",
     "text": [
      "{'b': 400, 'c': 300, 'd': 400, 'a': 400}\n"
     ]
    }
   ],
   "source": [
    "#Question 3\n",
    "d1 = {'a': 100, 'b': 200, 'c':300}\n",
    "d2 = {'a': 300, 'b': 200, 'd':400}\n",
    "\n",
    "d = {x: d1.get(x, 0) + d2.get(x, 0) for x in set(d1).union(d2)}\n",
    "print(str(d))"
   ]
  },
  {
   "cell_type": "code",
   "execution_count": 61,
   "id": "bac4aa22",
   "metadata": {},
   "outputs": [
    {
     "name": "stdout",
     "output_type": "stream",
     "text": [
      "{1: 1, 2: 4, 3: 9, 4: 16}\n"
     ]
    }
   ],
   "source": [
    "#Question 4\n",
    "a = {}\n",
    "for i in range(1,5):\n",
    "    value = i*i\n",
    "    a[i] = value\n",
    "print(a)"
   ]
  },
  {
   "cell_type": "code",
   "execution_count": 62,
   "id": "580a3523",
   "metadata": {},
   "outputs": [
    {
     "name": "stdout",
     "output_type": "stream",
     "text": [
      "[('item3', '24.5'), ('item2', '15.10'), ('item1', '12.20')]\n"
     ]
    }
   ],
   "source": [
    "#Question 5\n",
    "list1= [('item1', '12.20'), ('item2', '15.10'), ('item3', '24.5')]\n",
    "list1.sort(key=lambda x : x[1], reverse= True) \n",
    "print(list1)"
   ]
  },
  {
   "cell_type": "code",
   "execution_count": null,
   "id": "d736274a",
   "metadata": {},
   "outputs": [],
   "source": []
  },
  {
   "cell_type": "code",
   "execution_count": null,
   "id": "214d0e53",
   "metadata": {},
   "outputs": [],
   "source": []
  },
  {
   "cell_type": "code",
   "execution_count": null,
   "id": "be733bac",
   "metadata": {},
   "outputs": [],
   "source": []
  },
  {
   "cell_type": "code",
   "execution_count": null,
   "id": "7f43d040",
   "metadata": {},
   "outputs": [],
   "source": []
  }
 ],
 "metadata": {
  "kernelspec": {
   "display_name": "Python 3 (ipykernel)",
   "language": "python",
   "name": "python3"
  },
  "language_info": {
   "codemirror_mode": {
    "name": "ipython",
    "version": 3
   },
   "file_extension": ".py",
   "mimetype": "text/x-python",
   "name": "python",
   "nbconvert_exporter": "python",
   "pygments_lexer": "ipython3",
   "version": "3.9.12"
  }
 },
 "nbformat": 4,
 "nbformat_minor": 5
}
